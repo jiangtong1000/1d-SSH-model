{
 "cells": [
  {
   "cell_type": "markdown",
   "metadata": {},
   "source": [
    "# Tong Jiang 2018311464\n",
    "# This code is for the electronic structure of Su-Schrieffer-Heeger Model\n",
    "# The homework for Prof Shuai's Theoretical Chemical Physics"
   ]
  },
  {
   "cell_type": "code",
   "execution_count": 1,
   "metadata": {},
   "outputs": [],
   "source": [
    "import numpy as np"
   ]
  },
  {
   "cell_type": "code",
   "execution_count": 2,
   "metadata": {},
   "outputs": [],
   "source": [
    "import matplotlib"
   ]
  },
  {
   "cell_type": "code",
   "execution_count": 3,
   "metadata": {},
   "outputs": [],
   "source": [
    "#matplotlib.use('nbagg')"
   ]
  },
  {
   "cell_type": "code",
   "execution_count": 4,
   "metadata": {},
   "outputs": [],
   "source": [
    "import matplotlib.pyplot as plt"
   ]
  },
  {
   "cell_type": "markdown",
   "metadata": {},
   "source": [
    "The parameters come from Page 42 of 《高聚物中的孤子和极化子》,\n",
    "$t$ describes the interaction energy between NN atoms(eV);\n",
    "$\\alpha$ describes the rate for t changes with bond length(Angstrom); K is the elastic constant;"
   ]
  },
  {
   "cell_type": "code",
   "execution_count": 5,
   "metadata": {},
   "outputs": [],
   "source": [
    "t = 2.5"
   ]
  },
  {
   "cell_type": "code",
   "execution_count": 6,
   "metadata": {},
   "outputs": [],
   "source": [
    "alpha = 4.1"
   ]
  },
  {
   "cell_type": "code",
   "execution_count": 7,
   "metadata": {},
   "outputs": [],
   "source": [
    "K = 21"
   ]
  },
  {
   "cell_type": "code",
   "execution_count": 8,
   "metadata": {},
   "outputs": [],
   "source": [
    "N = 101 # the lattice length"
   ]
  },
  {
   "cell_type": "code",
   "execution_count": 9,
   "metadata": {},
   "outputs": [],
   "source": [
    "Ne = 100"
   ]
  },
  {
   "cell_type": "markdown",
   "metadata": {},
   "source": [
    "The eigenvalue equation writes,\n",
    "$$-[t_0+(-1)^m\\alpha(\\phi_m+\\phi_{m+1})]Z_{\\mu,m+1}-[t_0+(-1)^{m-1}\\alpha(\\phi_{m-1}+\\phi_{m})]Z_{\\mu, m+1}=\\varepsilon_{\\mu}Z_{\\mu,m}$$"
   ]
  },
  {
   "cell_type": "markdown",
   "metadata": {},
   "source": [
    "$\\rm{coord\\_add}[m-1]$ is $\\phi_{m}+\\phi_{m+1}$ , particularly, $\\rm{coord\\_add}[100]$ is $\\phi_{100}+\\phi_{1}$ to ensure the peoridical boundary condition"
   ]
  },
  {
   "cell_type": "markdown",
   "metadata": {},
   "source": [
    "Combined with $$\\phi_m+\\phi_{m+1}=(-1)^m \\frac{2\\alpha}{K}[\\sum_{\\mu}'Z_{\\mu, m}Z_{\\mu, m+1}-\\frac{1}{N}\\sum_{1}^{N}'Z_{\\mu, m}Z_{\\mu, m+1}]$$ to solve $\\phi_m+\\phi_{m+1}$ and $Z_{\\mu}$ iteratively"
   ]
  },
  {
   "cell_type": "code",
   "execution_count": 10,
   "metadata": {},
   "outputs": [],
   "source": [
    "coord_add = np.random.rand(N-1,)*0.1 - 0.05"
   ]
  },
  {
   "cell_type": "code",
   "execution_count": 11,
   "metadata": {},
   "outputs": [],
   "source": [
    "coord_add = coord_add.tolist()"
   ]
  },
  {
   "cell_type": "code",
   "execution_count": 12,
   "metadata": {},
   "outputs": [],
   "source": [
    "temp = np.sum([coord_add[x-1]*(-1)**x for x in range(1, N)])"
   ]
  },
  {
   "cell_type": "code",
   "execution_count": 13,
   "metadata": {},
   "outputs": [],
   "source": [
    "coord_add.append(-temp/((-1)**N)) # the boundary condition"
   ]
  },
  {
   "cell_type": "code",
   "execution_count": 14,
   "metadata": {},
   "outputs": [],
   "source": [
    "iter_num = 0"
   ]
  },
  {
   "cell_type": "code",
   "execution_count": 15,
   "metadata": {},
   "outputs": [],
   "source": [
    "while iter_num < 100:\n",
    "    iter_num += 1\n",
    "    sub_diag = [-(t + (-1)**m * alpha * coord_add[m-1])\n",
    "                for m in range(1, N)]\n",
    "    Mat = np.diag(sub_diag, k=-1) + np.diag(sub_diag, k=1)\n",
    "    Mat[0, -1] = -(t + (-1)**N * alpha * coord_add[-1])\n",
    "    Mat[-1, 0] = -(t + (-1)**N * alpha * coord_add[-1])\n",
    "    eigva, eigve = np.linalg.eigh(Mat)\n",
    "    ZZ = []\n",
    "    for i in range(1, N+1):\n",
    "        if i != N:\n",
    "            zz = [eigve[i-1, x] * eigve[i, x] for x in range(Ne//2)]\n",
    "        else:\n",
    "            zz = [eigve[0, x] * eigve[-1, x] for x in range(Ne//2)]\n",
    "        ZZ.append(2 * np.sum(zz))\n",
    "    # this is for the case of odd numbers of electrons, eg. N=101, Ne=101\n",
    "    if Ne % 2 != 0:\n",
    "        ZZ[:N-1] = [(ZZ[x] + eigve[x-1, Ne//2]*eigve[x, Ne//2])\n",
    "                    for x in range(1, N)]\n",
    "        ZZ[-1] = ZZ[-1] + eigve[0, Ne//2]*eigve[-1, Ne//2]\n",
    "    ZZ_tot = np.sum(ZZ)\n",
    "    for i in range(1, N+1):\n",
    "            coord_add[i-1] = (-1)**(i) * 2 * alpha / K * (ZZ[i-1] - ZZ_tot / N)"
   ]
  },
  {
   "cell_type": "code",
   "execution_count": 16,
   "metadata": {},
   "outputs": [],
   "source": [
    "for i in range(N):\n",
    "    plt.plot(range(2), [eigva[i]]*2, 'k')"
   ]
  },
  {
   "cell_type": "markdown",
   "metadata": {},
   "source": [
    "The energy levels are drawn below."
   ]
  },
  {
   "cell_type": "code",
   "execution_count": 17,
   "metadata": {
    "scrolled": false
   },
   "outputs": [
    {
     "data": {
      "image/png": "[encoded data removed]",
      "text/plain": [
       "<matplotlib.figure.Figure at 0x114375b38>"
      ]
     },
     "metadata": {},
     "output_type": "display_data"
    }
   ],
   "source": [
    "plt.xticks([]);plt.ylabel('Energy Level(eV)');plt.show()"
   ]
  },
  {
   "cell_type": "code",
   "execution_count": 18,
   "metadata": {},
   "outputs": [],
   "source": [
    "coord_mean = [x/2 for x in coord_add]"
   ]
  },
  {
   "cell_type": "code",
   "execution_count": 19,
   "metadata": {},
   "outputs": [
    {
     "data": {
      "text/plain": [
       "[<matplotlib.lines.Line2D at 0x11826a1d0>]"
      ]
     },
     "execution_count": 19,
     "metadata": {},
     "output_type": "execute_result"
    }
   ],
   "source": [
    "plt.plot(coord_mean)"
   ]
  },
  {
   "cell_type": "code",
   "execution_count": 20,
   "metadata": {},
   "outputs": [
    {
     "data": {
      "image/png": "[encoded data removed]",
      "text/plain": [
       "<matplotlib.figure.Figure at 0x1143751d0>"
      ]
     },
     "metadata": {},
     "output_type": "display_data"
    }
   ],
   "source": [
    "plt.ylabel('$\\phi_n$');plt.xlabel('n');plt.show()"
   ]
  },
  {
   "cell_type": "markdown",
   "metadata": {},
   "source": [
    "# Now we want to consider another case, what about using the open boundary condition?"
   ]
  },
  {
   "cell_type": "code",
   "execution_count": 21,
   "metadata": {},
   "outputs": [
    {
     "data": {
      "image/png": "[encoded data removed]",
      "text/plain": [
       "<matplotlib.figure.Figure at 0x1185184e0>"
      ]
     },
     "metadata": {},
     "output_type": "display_data"
    },
    {
     "data": {
      "image/png": "[encoded data removed]",
      "text/plain": [
       "<matplotlib.figure.Figure at 0x1187c4be0>"
      ]
     },
     "metadata": {},
     "output_type": "display_data"
    }
   ],
   "source": [
    "coord_add = [0] * (N-1)\n",
    "iter_num = 0\n",
    "while iter_num < 20:\n",
    "    iter_num += 1\n",
    "    sub_diag = [-(t + (-1)**m * alpha * coord_add[m-1])\n",
    "                for m in range(1, N)]\n",
    "    Mat = np.diag(sub_diag, k=-1) + np.diag(sub_diag, k=1)\n",
    "    #Mat[0, -1] = -(t + (-1)**N * alpha * coord_add[-1])\n",
    "    #Mat[-1, 0] = -(t + (-1)**N * alpha * coord_add[-1])\n",
    "    eigva, eigve = np.linalg.eigh(Mat)\n",
    "    ZZ = []\n",
    "    for i in range(1, N):\n",
    "        zz = [eigve[i-1, x] * eigve[i, x] for x in range(Ne//2)]\n",
    "        ZZ.append(2 * np.sum(zz))\n",
    "    if Ne % 2 != 0:\n",
    "        ZZ[:N-1] = [(ZZ[x] + eigve[x-1, Ne//2]*eigve[x, Ne//2])\n",
    "                    for x in range(1, N)]\n",
    "        ZZ[-1] = ZZ[-1] + eigve[0, Ne//2]*eigve[-1, Ne//2]\n",
    "    ZZ_tot = np.sum(ZZ)\n",
    "    for i in range(1, N):\n",
    "        coord_add[i-1] = (-1)**(i) * 2 * alpha / K * (ZZ[i-1] - ZZ_tot / (N-1))\n",
    "for i in range(N):\n",
    "    plt.plot(range(2), [eigva[i]]*2, 'k')\n",
    "plt.xticks([]);plt.ylabel('Energy Level(eV)');plt.show()\n",
    "coord_mean = [x/2 for x in coord_add]; plt.plot(coord_mean)\n",
    "plt.ylabel('$\\phi_n$');plt.xlabel('n');plt.show()\n",
    "    "
   ]
  }
 ],
 "metadata": {
  "kernelspec": {
   "display_name": "Python 3",
   "language": "python",
   "name": "python3"
  },
  "language_info": {
   "codemirror_mode": {
    "name": "ipython",
    "version": 3
   },
   "file_extension": ".py",
   "mimetype": "text/x-python",
   "name": "python",
   "nbconvert_exporter": "python",
   "pygments_lexer": "ipython3",
   "version": "3.6.8"
  }
 },
 "nbformat": 4,
 "nbformat_minor": 2
}
